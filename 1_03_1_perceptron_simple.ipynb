{
  "cells": [
    {
      "cell_type": "markdown",
      "metadata": {
        "id": "view-in-github",
        "colab_type": "text"
      },
      "source": [
        "<a href=\"https://colab.research.google.com/github/PaolaValdez3/Redes-Neuronales/blob/main/1_03_1_perceptron_simple.ipynb\" target=\"_parent\"><img src=\"https://colab.research.google.com/assets/colab-badge.svg\" alt=\"Open In Colab\"/></a>"
      ]
    },
    {
      "cell_type": "markdown",
      "metadata": {
        "id": "B4_J05gWcL4b"
      },
      "source": [
        "# Perceptrón simple\n",
        "(Ejercicio, 3 puntos posibles)\n",
        "\n",
        "En este notebook programaremos un perceptron simple utilizando numpy. El objetivo es que comprendamos el funcionamiento del perceptrón y que practiquemos la programación en Python. En la siguiente figura se encuentra una representación del perceptrón.\n",
        "\n",
        "<img src=\"files/simple_nn_notebook.png\">\n",
        "\n",
        "[![Open In Colab](https://colab.research.google.com/assets/colab-badge.svg)](https://colab.research.google.com/github/irvingvasquez/cv2course_intro_nn/blob/master/02_red_neuronal_simple.ipynb)\n",
        "\n",
        "@juan1rving\n"
      ]
    },
    {
      "cell_type": "code",
      "execution_count": 7,
      "metadata": {
        "id": "VI_4WGL2cL4f"
      },
      "outputs": [],
      "source": [
        "# Cargamos paquetes\n",
        "import numpy as np"
      ]
    },
    {
      "cell_type": "markdown",
      "metadata": {
        "id": "3Uk8rvGJcL4g"
      },
      "source": [
        "### Calcular producto punto\n",
        "\n",
        "El primer paso es calcular el valor intermedio, *h*, a partir del producto punto. La fórmula explícita es la siguiente:\n",
        "\n",
        "$$ h = W X +b $$"
      ]
    },
    {
      "cell_type": "code",
      "execution_count": 8,
      "metadata": {
        "id": "YUf9UpVncL4g"
      },
      "outputs": [],
      "source": [
        "# TODO: (1 punto) Implementar la función h sin utilizar funciones predefinidas de numpy como numpy.dot()\n",
        "\n",
        "def combinacion_lineal(W, X, b):\n",
        "    suma = 0.0\n",
        "    for i in range(len(W)):\n",
        "        suma += W[i] * X[i]   # multiplicación entrada * peso\n",
        "    suma += b                 # sumamos bias\n",
        "    return suma"
      ]
    },
    {
      "cell_type": "markdown",
      "metadata": {
        "id": "6akHzyricL4h"
      },
      "source": [
        "### Función de activación\n",
        "\n",
        "Para este ejemplo utilizaremos la función escalón como función de activación.\n",
        "\n",
        "$$ \tf(h) = \\begin{cases}\n",
        "\t\t0 & \\text{if } h < a \\\\\n",
        "\t\t1 & \\text{if } h \\geq a\n",
        "\\end{cases}  $$"
      ]
    },
    {
      "cell_type": "code",
      "execution_count": 9,
      "metadata": {
        "id": "MTndw706cL4h"
      },
      "outputs": [],
      "source": [
        "# TODO: (1 punto) Completar el código\n",
        "def escalon(h):\n",
        "    if h >= 0:\n",
        "        return 1\n",
        "    else:\n",
        "        return 0"
      ]
    },
    {
      "cell_type": "markdown",
      "metadata": {
        "id": "o2kRPubtcL4h"
      },
      "source": [
        "## Definir perceptrón\n",
        "\n",
        "Perceptrón como una función"
      ]
    },
    {
      "cell_type": "code",
      "execution_count": 10,
      "metadata": {
        "id": "ZLlrKHrfcL4i"
      },
      "outputs": [],
      "source": [
        "# Perceptrón simple\n",
        "def perceptron(W, X, b, activacion):\n",
        "    h = combinacion_lineal(W, X, b)\n",
        "    return activacion(h)\n"
      ]
    },
    {
      "cell_type": "markdown",
      "metadata": {
        "id": "B5ht5OZ8cL4i"
      },
      "source": [
        "## Probar inferencia\n",
        "\n",
        "Ahora definamos unos pesos y veamos el resultado de una pasada frontal (fordward pass)."
      ]
    },
    {
      "cell_type": "code",
      "execution_count": 11,
      "metadata": {
        "colab": {
          "base_uri": "https://localhost:8080/",
          "height": 0
        },
        "id": "v9v2ZIJJcL4i",
        "outputId": "97b6b47d-665c-4ff6-a541-abc367c5f143"
      },
      "outputs": [
        {
          "output_type": "stream",
          "name": "stdout",
          "text": [
            "Output:\n",
            "0\n"
          ]
        }
      ],
      "source": [
        "# Definamos unos pesos y sesgo\n",
        "inputs = np.array([0.7, -0.3])\n",
        "weights = np.array([0.1, 0.8])\n",
        "bias = -0.1\n",
        "\n",
        "# Pasada frontal\n",
        "activacion = escalon #definir la función a usar\n",
        "output = perceptron(weights, inputs, bias, activacion)\n",
        "\n",
        "print('Output:')\n",
        "print(output)\n"
      ]
    },
    {
      "cell_type": "code",
      "execution_count": 12,
      "metadata": {
        "colab": {
          "base_uri": "https://localhost:8080/",
          "height": 0
        },
        "id": "v2ZnP2ntcL4j",
        "outputId": "ffc03143-12a8-4f2c-84f6-bf52d189c8b3"
      },
      "outputs": [
        {
          "output_type": "stream",
          "name": "stdout",
          "text": [
            "Tabla de verdad OR con perceptrón:\n",
            "X1  X2  |   h   |  salida\n",
            "-------------------------\n",
            "0   0   | -0.50 |   0\n",
            "0   1   | 0.50 |   1\n",
            "1   0   | 0.50 |   1\n",
            "1   1   | 1.50 |   1\n"
          ]
        }
      ],
      "source": [
        "# TODO (1 punto): Realizar el pase frontal y encuentra por prueba y error los pesos que concuerdan con la función OR\n",
        "\n",
        "weights_or = np.array([1, 1])\n",
        "bias_or = -0.5\n",
        "\n",
        "entradas = [\n",
        "    np.array([0,0]),\n",
        "    np.array([0,1]),\n",
        "    np.array([1,0]),\n",
        "    np.array([1,1])\n",
        "]\n",
        "\n",
        "print(\"Tabla de verdad OR con perceptrón:\")\n",
        "print(\"X1  X2  |   h   |  salida\")\n",
        "print(\"-------------------------\")\n",
        "for X in entradas:\n",
        "    h = combinacion_lineal(weights_or, X, bias_or)\n",
        "    y = perceptron(weights_or, X, bias_or, escalon)\n",
        "    print(f\"{X[0]}   {X[1]}   | {h:4.2f} |   {y}\")\n"
      ]
    }
  ],
  "metadata": {
    "kernelspec": {
      "display_name": "Python 3",
      "language": "python",
      "name": "python3"
    },
    "language_info": {
      "codemirror_mode": {
        "name": "ipython",
        "version": 3
      },
      "file_extension": ".py",
      "mimetype": "text/x-python",
      "name": "python",
      "nbconvert_exporter": "python",
      "pygments_lexer": "ipython3",
      "version": "3.11.9"
    },
    "colab": {
      "provenance": [],
      "include_colab_link": true
    }
  },
  "nbformat": 4,
  "nbformat_minor": 0
}