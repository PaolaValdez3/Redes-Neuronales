{
  "nbformat": 4,
  "nbformat_minor": 0,
  "metadata": {
    "colab": {
      "provenance": []
    },
    "kernelspec": {
      "name": "python3",
      "display_name": "Python 3"
    },
    "language_info": {
      "name": "python"
    }
  },
  "cells": [
    {
      "cell_type": "code",
      "execution_count": null,
      "metadata": {
        "id": "UUuw7DvLvaYd"
      },
      "outputs": [],
      "source": [
        "#importamos paquetes necesarios\n",
        "import numpy as np"
      ]
    },
    {
      "cell_type": "code",
      "source": [
        "# TODO: (2 puntos) Implemente la función del modelo M&P, no use funciones predefinidas de numpy\n",
        "def neuronaMyP(E, I, u):\n",
        "    for inhib in I:\n",
        "        if inhib == 1:\n",
        "            return 0\n",
        "    suma_exc = 0\n",
        "    for exc in E:\n",
        "        suma_exc += exc\n",
        "    if suma_exc >= u:\n",
        "        return 1\n",
        "    return 0"
      ],
      "metadata": {
        "id": "RHQefV33vb77"
      },
      "execution_count": null,
      "outputs": []
    },
    {
      "cell_type": "code",
      "source": [
        "# suponga\n",
        "E = [1]\n",
        "I = [0]\n",
        "u = 1\n",
        "\n",
        "# Calcule la salida de la neurona y verfique si es correcto\n",
        "\n",
        "salida = neuronaMyP(E, I, u)\n",
        "print(\"Salida de la neurona :\", salida)"
      ],
      "metadata": {
        "colab": {
          "base_uri": "https://localhost:8080/",
          "height": 0
        },
        "id": "DnX-qjfvvm4k",
        "outputId": "dd97d11b-7d65-4713-ac6e-322e4371614c"
      },
      "execution_count": 12,
      "outputs": [
        {
          "output_type": "stream",
          "name": "stdout",
          "text": [
            "Salida de la neurona : 1\n"
          ]
        }
      ]
    },
    {
      "cell_type": "code",
      "source": [
        "# TODO: (1 punto) Implemente un programa que reciba vectores arbitrarios de E, I y u y devuelva la salida de la neurona.\n",
        "\n",
        "E = list(map(int, input(\"Introduce las entradas excitatorias separadas por espacio: \").split()))\n",
        "I = list(map(int, input(\"Introduce las entradas inhibitorias separadas por espacio: \").split()))\n",
        "u = int(input(\"Introduce el umbral: \"))\n",
        "\n",
        "salida = neuronaMyP(E, I, u)\n",
        "print(\"Salida de la neurona:\", salida)\n"
      ],
      "metadata": {
        "colab": {
          "base_uri": "https://localhost:8080/"
        },
        "id": "UvPF7f5TxMcb",
        "outputId": "2e50c4ed-6282-470e-bd70-06d4887a1c70"
      },
      "execution_count": null,
      "outputs": [
        {
          "output_type": "stream",
          "name": "stdout",
          "text": [
            "Introduce las entradas excitatorias separadas por espacio: 1 1\n",
            "Introduce las entradas inhibitorias separadas por espacio: 0\n",
            "Introduce el umbral: 2\n",
            "Salida de la neurona: 1\n"
          ]
        }
      ]
    }
  ]
}
