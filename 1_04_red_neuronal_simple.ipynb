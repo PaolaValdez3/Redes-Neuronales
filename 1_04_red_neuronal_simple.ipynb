{
  "cells": [
    {
      "cell_type": "markdown",
      "metadata": {
        "id": "view-in-github",
        "colab_type": "text"
      },
      "source": [
        "<a href=\"https://colab.research.google.com/github/PaolaValdez3/Redes-Neuronales/blob/main/1_04_red_neuronal_simple.ipynb\" target=\"_parent\"><img src=\"https://colab.research.google.com/assets/colab-badge.svg\" alt=\"Open In Colab\"/></a>"
      ]
    },
    {
      "cell_type": "markdown",
      "metadata": {
        "id": "nbA9jC4xfwQO"
      },
      "source": [
        "# Red neuronal simple\n",
        "\n",
        "(Ejercicio, 4 puntos posibles)\n",
        "\n",
        "En este notebook programaremos una red neuronal simple utilizando numpy. El objetivo es que comprendamos la diferencia con el perceptrón. A diferencia del ejercicio anterior en este usaremos funciones de numpy.\n",
        "\n",
        "- *numpy.dot(a, b, out=None)* Dot product of two arrays. Parameters: a array_like First argument, b array_like Second argument.\n",
        "\n",
        "[![Open In Colab](https://colab.research.google.com/assets/colab-badge.svg)](https://colab.research.google.com/github/irvingvasquez/cv2course_intro_nn/blob/master/02_red_neuronal_simple.ipynb)\n",
        "\n",
        "@juan1rving\n"
      ]
    },
    {
      "cell_type": "code",
      "execution_count": 1,
      "metadata": {
        "id": "s9GoSONGfwQR"
      },
      "outputs": [],
      "source": [
        "# Cargamos paquetes\n",
        "import numpy as np"
      ]
    },
    {
      "cell_type": "markdown",
      "metadata": {
        "id": "CRaCyuhafwQT"
      },
      "source": [
        "### Función de activación\n",
        "\n",
        "Para este ejemplo utilizaremos la función sigmoide como función de activación.\n",
        "\n",
        "$$ f(x) = \\frac{ 1 }{1 + e^{-x} }\n"
      ]
    },
    {
      "cell_type": "code",
      "execution_count": 2,
      "metadata": {
        "id": "sQFI3UfGfwQT"
      },
      "outputs": [],
      "source": [
        "# TODO (1 punto): Implementar la función de activación.\n",
        "def sigmoide(h):\n",
        "    sg = 1 / (1 + np.exp(-h))\n",
        "    return sg"
      ]
    },
    {
      "cell_type": "markdown",
      "metadata": {
        "id": "PQ5Shqh5fwQU"
      },
      "source": [
        "### Neurona simple\n",
        "\n",
        "Implementación de la neurona simple mediante una clase."
      ]
    },
    {
      "cell_type": "code",
      "execution_count": 3,
      "metadata": {
        "id": "Ai14RX7dfwQU"
      },
      "outputs": [],
      "source": [
        "# TODO (1 punto): Implementar la clase Neurona\n",
        "class Neurona:\n",
        "    def __init__(self, W, b, activacion):\n",
        "        self.W = W\n",
        "        self.b = b\n",
        "        self.activacion = activacion\n",
        "\n",
        "    def combinacion_lineal(self, X):\n",
        "        h = np.dot(self.W, X) + self.b\n",
        "        return h\n",
        "\n",
        "    def forward(self, X):\n",
        "        h = self.combinacion_lineal(X)\n",
        "        return self.activacion(h)"
      ]
    },
    {
      "cell_type": "markdown",
      "metadata": {
        "id": "g-1xTQXGfwQU"
      },
      "source": [
        "## Probar la red\n",
        "\n",
        "Ahora definamos unos pesos y veamos el resultado de una pasada frontal (fordward pass)."
      ]
    },
    {
      "cell_type": "code",
      "execution_count": 4,
      "metadata": {
        "colab": {
          "base_uri": "https://localhost:8080/"
        },
        "id": "KdHFjYMxfwQU",
        "outputId": "c9b96628-c8ef-40f2-a76d-4cc1189f45f6"
      },
      "outputs": [
        {
          "output_type": "stream",
          "name": "stdout",
          "text": [
            "Output con sigmoide: 0.4329\n"
          ]
        }
      ],
      "source": [
        "inputs = np.array([0.7, -0.3])\n",
        "pesos = np.array([0.1, 0.8])\n",
        "sesgo = -0.1\n",
        "\n",
        "clasificador_log = Neurona(pesos, sesgo, sigmoide)\n",
        "\n",
        "# Hacemos una predicción\n",
        "output = clasificador_log.forward(inputs)\n",
        "print(f'Output con sigmoide: {output:.4f}')"
      ]
    },
    {
      "cell_type": "markdown",
      "metadata": {
        "id": "2Q_g0E5PfwQV"
      },
      "source": [
        "## Pruebas extra\n",
        "\n",
        "- Define una función de activación tangente hiperbólica. (1 punto)\n",
        "- Contesta: ¿La tanh y sigmoide producen las mismas salidas? (1 punto)"
      ]
    },
    {
      "cell_type": "code",
      "execution_count": 5,
      "metadata": {
        "colab": {
          "base_uri": "https://localhost:8080/"
        },
        "id": "TTj6EJ8PfwQW",
        "outputId": "b4098634-95c7-4c6c-a99c-e827bdc13f02"
      },
      "outputs": [
        {
          "output_type": "stream",
          "name": "stdout",
          "text": [
            "Output con tanh: -0.2636\n"
          ]
        }
      ],
      "source": [
        "# Implementar tangente hiperbólica\n",
        "def tanh(h):\n",
        "    return np.tanh(h)\n",
        "\n",
        "# Probamos con la misma neurona pero usando tanh\n",
        "clasificador_tanh = Neurona(pesos, sesgo, tanh)\n",
        "output_tanh = clasificador_tanh.forward(inputs)\n",
        "print(f'Output con tanh: {output_tanh:.4f}')"
      ]
    },
    {
      "cell_type": "code",
      "execution_count": 6,
      "metadata": {
        "colab": {
          "base_uri": "https://localhost:8080/"
        },
        "id": "nUSWDZkRfwQW",
        "outputId": "0cbea1ac-cfe4-4e0c-c102-cb4546606473"
      },
      "outputs": [
        {
          "output_type": "stream",
          "name": "stdout",
          "text": [
            "\n",
            "No producen las mismas salidas. \n",
            "La función sigmoide produce valores entre 0 y 1, \n",
            "mientras que la tangente hiperbólica (tanh) produce valores entre -1 y 1. \n",
            "Aunque ambas tienen forma de 'S' (sigmoide), la tangente hiperbolica está centrada en 0, \n",
            "lo que la hace más útil en muchas redes neuronales porque genera salidas positivas y negativas.\n",
            "\n"
          ]
        }
      ],
      "source": [
        "# ¿La tanh y la sigmoide producen las mismas salidas?\n",
        "respuesta = \"\"\"\n",
        "No producen las mismas salidas.\n",
        "La función sigmoide produce valores entre 0 y 1,\n",
        "mientras que la tangente hiperbólica (tanh) produce valores entre -1 y 1.\n",
        "Aunque ambas tienen forma de 'S' (sigmoide), la tangente hiperbolica está centrada en 0,\n",
        "lo que la hace más útil en muchas redes neuronales porque genera salidas positivas y negativas.\n",
        "\"\"\"\n",
        "print(respuesta)"
      ]
    }
  ],
  "metadata": {
    "kernelspec": {
      "display_name": "Python 3",
      "language": "python",
      "name": "python3"
    },
    "language_info": {
      "codemirror_mode": {
        "name": "ipython",
        "version": 3
      },
      "file_extension": ".py",
      "mimetype": "text/x-python",
      "name": "python",
      "nbconvert_exporter": "python",
      "pygments_lexer": "ipython3",
      "version": "3.11.9"
    },
    "colab": {
      "provenance": [],
      "include_colab_link": true
    }
  },
  "nbformat": 4,
  "nbformat_minor": 0
}